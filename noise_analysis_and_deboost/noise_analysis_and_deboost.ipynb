{
 "cells": [
  {
   "cell_type": "markdown",
   "metadata": {},
   "source": [
    "# Noise Analysis and Deboost"
   ]
  },
  {
   "cell_type": "markdown",
   "metadata": {},
   "source": [
    "## Importing Modules"
   ]
  },
  {
   "cell_type": "code",
   "execution_count": 6,
   "metadata": {},
   "outputs": [],
   "source": [
    "import os \n",
    "import wget\n",
    "from threadpoolctl import threadpool_limits\n",
    "import healpy as hp\n",
    "import numpy as np\n",
    "from tqdm import tqdm\n",
    "from astropy.io import fits as pyfits\n",
    "import random\n",
    "import pymp\n",
    "import time\n",
    "from tqdm import tqdm\n",
    "import matplotlib.pyplot as plt\n",
    "import matplotlib.pyplot as plt\n",
    "import numpy as np\n",
    "from matplotlib import colors\n",
    "from matplotlib.ticker import PercentFormatter\n",
    "import importlib\n",
    "import sys\n",
    "import multiprocessing as mp\n",
    "from math import sqrt\n",
    "from math import radians\n",
    "import gc\n",
    "import subprocess\n",
    "gc.disable()\n",
    "#######################################################################################################\n",
    "from cmbaberdopp import * # cmbaberdopp its a module created w/ the functions needed for this work          #\n",
    "                       # remember to change the path of maps on dipole_doppler_load_low_res function  #\n",
    "#######################################################################################################\n",
    "def c_nthreads_limit(n): # Function to change number of threads used on imported C/C++ functions\n",
    "    threadpool_limits(limits=n, user_api='blas')\n",
    "    threadpool_limits(limits=n, user_api='openmp')"
   ]
  },
  {
   "cell_type": "code",
   "execution_count": null,
   "metadata": {},
   "outputs": [],
   "source": [
    "nsims = 300\n",
    "\n",
    "# Download Planck Noise Simulations\n",
    "for i in tqdm(range(nsims),desc='Downloading noise simulations:'):\n",
    "    wget.download('http://pla.esac.esa.int/pla/aio/product-action?SIMULATED_MAP.FILE_ID=dx12_v3_smica_noise_mc_'+str(i).zfill(5)+'_raw.fits')\n",
    "    wget.download('http://pla.esac.esa.int/pla/aio/product-action?SIMULATED_MAP.FILE_ID=dx12_v3_nilc_noise_mc_'+str(i).zfill(5)+'_raw.fits')"
   ]
  },
  {
   "cell_type": "code",
   "execution_count": 2,
   "metadata": {},
   "outputs": [
    {
     "data": {
      "text/plain": [
       "'COM_CMB_IQU-nilc_2048_R3.00_full.fits'"
      ]
     },
     "execution_count": 2,
     "metadata": {},
     "output_type": "execute_result"
    }
   ],
   "source": [
    "# Download Planck final SMICA and NILC maps to get realistic beam function\n",
    "\n",
    "wget.download('http://pla.esac.esa.int/pla/aio/product-action?MAP.MAP_ID=COM_CMB_IQU-smica_2048_R3.00_full.fits')\n",
    "wget.download('http://pla.esac.esa.int/pla/aio/product-action?MAP.MAP_ID=COM_CMB_IQU-nilc_2048_R3.00_full.fits')"
   ]
  },
  {
   "cell_type": "code",
   "execution_count": 5,
   "metadata": {},
   "outputs": [],
   "source": [
    "lmax_var=2048\n",
    "\n",
    "nilcgb = pyfits.open('COM_CMB_IQU-nilc_2048_R3.00_full.fits')[2].data['INT_BEAM'][0:lmax_var+1]\n",
    "nilcgb[0]=1\n",
    "nilcgb[1]=1\n",
    "nilcgb_P = pyfits.open('COM_CMB_IQU-nilc_2048_R3.00_full.fits')[2].data['POL_BEAM'][0:lmax_var+1]\n",
    "nilcgb_P[0]=1\n",
    "nilcgb_P[1]=1\n",
    "\n",
    "smicagb = pyfits.open('COM_CMB_IQU-smica_2048_R3.00_full.fits')[2].data['INT_BEAM'][0:lmax_var+1]\n",
    "smicagb[0]=1\n",
    "smicagb[1]=1\n",
    "smicagb_P = pyfits.open('COM_CMB_IQU-smica_2048_R3.00_full.fits')[2].data['POL_BEAM'][0:lmax_var+1]\n",
    "smicagb_P[0]=1\n",
    "smicagb_P[1]=1\n",
    "\n",
    "hp.write_cl('smicagb_2018.fits',smicagb)\n",
    "hp.write_cl('smicagb_P_2018.fits',smicagb_P)\n",
    "hp.write_cl('nilcgb_2018.fits',nilcgb)\n",
    "hp.write_cl('nilcgb_P_2018.fits',nilcgb_P)"
   ]
  },
  {
   "cell_type": "markdown",
   "metadata": {},
   "source": [
    "## NOISE DEBEAMING AND HARMONIC EXPANSION (I,Q,U $\\rightarrow$ T,E,B)"
   ]
  },
  {
   "cell_type": "code",
   "execution_count": null,
   "metadata": {},
   "outputs": [],
   "source": [
    "nsim = 300\n",
    "lmax_var = 2048\n",
    "\n",
    "masksymm = hp.read_map('temp_symmmask_pr3.fits',verbose=False)\n",
    "\n",
    "c_nthreads_limit(8)\n",
    "\n",
    "#not masked\n",
    "for i in tqdm(range(nsim)):\n",
    "    nilc_map_I, nilc_map_Q, nilc_map_U = hp.read_map('dx12_v3_nilc_noise_mc_'+str(i).zfill(5)+'_raw.fits',field=(0,1,2))\n",
    "    alm_T_noise, alm_E_noise, alm_B_noise = hp.map2alm((nilc_map_I, nilc_map_Q, nilc_map_U),lmax=lmax_var,iter=3)\n",
    "    alm_T_debeamed = hp.almxfl(alm_T_noise,1/(nilcgb[0:lmax_var]))\n",
    "    alm_E_debeamed = hp.almxfl(alm_E_noise,1/(nilcgb_P[0:lmax_var]))\n",
    "    alm_B_debeamed = hp.almxfl(alm_B_noise,1/(nilcgb_P[0:lmax_var]))\n",
    "    hp.write_alm('debeamed_nilc_T_noise_'+str(i)+'.fits',alm_T_debeamed,overwrite=True)\n",
    "    hp.write_alm('debeamed_nilc_E_noise_'+str(i)+'.fits',alm_E_debeamed,overwrite=True)\n",
    "    hp.write_alm('debeamed_nilc_B_noise_'+str(i)+'.fits',alm_B_debeamed,overwrite=True)\n",
    "    \n",
    "for i in tqdm(range(nsim)):\n",
    "    smica_map_I, smica_map_Q, smica_map_U = hp.read_map('dx12_v3_smica_noise_mc_'+str(i).zfill(5)+'_raw.fits',field=(0,1,2))\n",
    "    alm_T_noise, alm_E_noise, alm_B_noise = hp.map2alm((smica_map_I, smica_map_Q, smica_map_U),lmax=lmax_var,iter=3)\n",
    "    alm_T_debeamed = hp.almxfl(alm_T_noise,1/(smicagb[0:lmax_var]))\n",
    "    alm_E_debeamed = hp.almxfl(alm_E_noise,1/(smicagb_P[0:lmax_var]))\n",
    "    alm_B_debeamed = hp.almxfl(alm_B_noise,1/(smicagb_P[0:lmax_var]))\n",
    "    hp.write_alm('debeamed_smica_T_noise_'+str(i)+'.fits',alm_T_debeamed,overwrite=True)\n",
    "    hp.write_alm('debeamed_smica_E_noise_'+str(i)+'.fits',alm_E_debeamed,overwrite=True)\n",
    "    hp.write_alm('debeamed_smica_B_noise_'+str(i)+'.fits',alm_B_debeamed,overwrite=True)\n",
    "\n",
    "#masked\n",
    "for i in tqdm(range(nsim)):\n",
    "    alm_T = hp.read_alm('debeamed_nilc_T_noise_'+str(i)+'.fits')\n",
    "    alm_E = hp.read_alm('debeamed_nilc_E_noise_'+str(i)+'.fits')\n",
    "    masked_map_T = hp.alm2map(alm_T,nside=2048)*masksymm\n",
    "    masked_map_E = hp.alm2map(alm_E,nside=2048)*masksymm\n",
    "    alm_masked_T = hp.map2alm(masked_map_T,lmax=2048)\n",
    "    alm_masked_E = hp.map2alm(masked_map_E,lmax=2048)\n",
    "    hp.write_alm('nilc_symmmasked_T_noise_alm_'+str(i)+'.fits',alm_masked_T)\n",
    "    hp.write_alm('nilc_symmmasked_E_noise_alm_'+str(i)+'.fits',alm_masked_E)\n",
    "    \n",
    "for i in tqdm(range(nsim)):\n",
    "    alm_T = hp.read_alm('debeamed_smica_T_noise_'+str(i)+'.fits')\n",
    "    alm_E = hp.read_alm('debeamed_smica_E_noise_'+str(i)+'.fits')\n",
    "    masked_map_T = hp.alm2map(alm_T,nside=2048)*masksymm\n",
    "    masked_map_E = hp.alm2map(alm_E,nside=2048)*masksymm\n",
    "    alm_masked_T = hp.map2alm(masked_map_T,lmax=2048)\n",
    "    alm_masked_E = hp.map2alm(masked_map_E,lmax=2048)\n",
    "    hp.write_alm('smica_symmmasked_T_noise_alm_'+str(i)+'.fits',alm_masked_T)\n",
    "    hp.write_alm('smica_symmmasked_E_noise_alm_'+str(i)+'.fits',alm_masked_E)"
   ]
  },
  {
   "cell_type": "markdown",
   "metadata": {},
   "source": [
    "## $N_{\\ell}$"
   ]
  },
  {
   "cell_type": "code",
   "execution_count": null,
   "metadata": {},
   "outputs": [],
   "source": [
    "c_nthreads_limit(12)\n",
    "\n",
    "nsim = 300\n",
    "\n",
    "cl_nilc_T_mean = np.zeros(2048+1)\n",
    "cl_nilc_E_mean = np.zeros(2048+1)\n",
    "cl_smica_T_mean = np.zeros(2048+1)\n",
    "cl_smica_E_mean = np.zeros(2048+1)\n",
    "\n",
    "for i in tqdm(range(nsim)):\n",
    "    almT = hp.read_alm('nilc_symmmasked_T_noise_alm_'+str(i)+'.fits')\n",
    "    almE = hp.read_alm('/nilc_symmmasked_E_noise_alm_'+str(i)+'.fits')\n",
    "    clT = hp.alm2cl(almT)\n",
    "    clE = hp.alm2cl(almE)\n",
    "    cl_nilc_T_mean = cl_nilc_T_mean + clT/nsim\n",
    "    cl_nilc_E_mean = cl_nilc_E_mean + clE/nsim\n",
    "\n",
    "hp.write_cl('nl_nilc_T_symmmasked.fits',cl_nilc_T_mean)\n",
    "hp.write_cl('nl_nilc_E_symmmasked.fits',cl_nilc_E_mean)\n",
    "    \n",
    "for i in tqdm(range(nsim)):\n",
    "    almT = hp.read_alm('smica_symmmasked_T_noise_alm_'+str(i)+'.fits')\n",
    "    almE =hp.read_alm('smica_symmmasked_E_noise_alm_'+str(i)+'.fits')\n",
    "    clT = hp.alm2cl(almT)\n",
    "    clE = hp.alm2cl(almE)\n",
    "    cl_smica_T_mean = cl_smica_T_mean + clT/nsim\n",
    "    cl_smica_E_mean = cl_smica_E_mean + clE/nsim\n",
    "    \n",
    "hp.write_cl('nl_smica_T_symmmasked.fits',cl_smica_T_mean)\n",
    "hp.write_cl('nl_smica_E_symmmasked.fits',cl_smica_E_mean)"
   ]
  },
  {
   "cell_type": "markdown",
   "metadata": {},
   "source": [
    "## de-Doplerred Noise"
   ]
  },
  {
   "cell_type": "markdown",
   "metadata": {},
   "source": [
    "### TT"
   ]
  },
  {
   "cell_type": "code",
   "execution_count": null,
   "metadata": {},
   "outputs": [],
   "source": [
    "dd_files_dir = 'dipole_doppler_maps_TT/'\n",
    "\n",
    "## Applying NILC noise de-Doppler\n",
    "\n",
    "nsim = 300\n",
    "lmax_var = 2048\n",
    "alm = hp.read_alm('nilc_symmmasked_T_noise_alm_'+str(1)+'.fits')\n",
    "\n",
    "#caching DD data\n",
    "dipole_doppler_load_low_res(alm=alm,pipeline='nilc',almfile=False,lmax=2048,overbin=10,threads=16,dd_dir=dd_files_dir,verbose=True)\n",
    "#overbin is leakage removal feature on the edge of the bins (the default bin size is delta_l=200). Let overbin=10 for optimal results.\n",
    "\n",
    "#Here we set 4 threads, bun below we use 3 processes -> total of 4x3=12 threads\n",
    "c_nthreads_limit(4)\n",
    "\n",
    "for i in range(nsim):\n",
    "    start = time.time()\n",
    "    print(i)\n",
    "    alm = hp.read_alm('debeamed_nilc_T_noise_'+str(i)+'.fits')\n",
    "    nilc_dd_alm = dipole_doppler_low_res_removal(alm,threads=4,processes=3)\n",
    "    hp.write_alm('nilc_debeamed_dedopplered_noise_T_sim_'+str(i)+'.fits',nilc_dd_alm)\n",
    "    end = time.time()\n",
    "    print(end-start)\n",
    "\n",
    "## Applying SMICA noise de-Doppler\n",
    "\n",
    "nsim = 300\n",
    "lmax_var = 2048\n",
    "alm = hp.read_alm('smica_symmmasked_T_noise_alm_'+str(1)+'.fits')\n",
    "\n",
    "#caching DD data\n",
    "dipole_doppler_load_low_res(alm=alm,pipeline='smica',almfile=False,lmax=2048,overbin=10,threads=16,dd_dir=dd_files_dir,verbose=True)\n",
    "#overbin is leakage removal feature on the edge of the bins (the default bin size is delta_l=200). Let overbin=10 for optimal results.\n",
    "\n",
    "#Here we set 4 threads, bun below we use 3 processes -> total of 4x3=12 threads\n",
    "c_nthreads_limit(4)\n",
    "\n",
    "for i in range(nsim):\n",
    "    start = time.time()\n",
    "    print(i)\n",
    "    alm = hp.read_alm('debeamed_smica_T_noise_'+str(i)+'.fits')\n",
    "    smica_dd_alm = dipole_doppler_low_res_removal(alm,threads=4,processes=3)\n",
    "    hp.write_alm('smica_debeamed_dedopplered_noise_T_sim_'+str(i)+'.fits',smica_dd_alm)\n",
    "    end = time.time()\n",
    "    print(end-start)\n"
   ]
  },
  {
   "cell_type": "code",
   "execution_count": null,
   "metadata": {},
   "outputs": [],
   "source": [
    "#Maybe you will have to kill and restart the kernel before proceed."
   ]
  },
  {
   "cell_type": "markdown",
   "metadata": {},
   "source": [
    "### EE"
   ]
  },
  {
   "cell_type": "code",
   "execution_count": null,
   "metadata": {},
   "outputs": [],
   "source": [
    "dd_files_dir = 'dipole_doppler_maps_EE/'\n",
    "\n",
    "## Applying NILC noise de-Doppler\n",
    "\n",
    "nsim = 300\n",
    "lmax_var = 2048\n",
    "alm = hp.read_alm('nilc_symmmasked_E_noise_alm_'+str(1)+'.fits')\n",
    "\n",
    "#caching DD data\n",
    "dipole_doppler_load_low_res_pol(alm=alm,pipeline='nilc',almfile=False,lmax=2048,overbin=10,threads=16,dd_dir=dd_files_dir,verbose=True)\n",
    "#overbin is leakage removal feature on the edge of the bins (the default bin size is delta_l=200). Let overbin=10 for optimal results.\n",
    "\n",
    "#Here we set 4 threads, bun below we ser 3 processes -> total of 4x3=12 threads\n",
    "c_nthreads_limit(4)\n",
    "\n",
    "for i in range(nsim):\n",
    "    start = time.time()\n",
    "    print(i)\n",
    "    alm = hp.read_alm('debeamed_nilc_E_noise_'+str(i)+'.fits')\n",
    "    nilc_dd_alm = dipole_doppler_low_res_removal_pol(alm,threads=4,processes=3)\n",
    "    hp.write_alm('nilc_debeamed_dedopplered_noise_E_sim_'+str(i)+'.fits',nilc_dd_alm)\n",
    "    end = time.time()\n",
    "    print(end-start)\n",
    "\n",
    "## Applying SMICA noise de-Doppler\n",
    "\n",
    "nsim = 300\n",
    "lmax_var = 2048\n",
    "alm = hp.read_alm('smica_symmmasked_E_noise_alm_'+str(1)+'.fits')\n",
    "\n",
    "#caching DD data\n",
    "dipole_doppler_load_low_res_pol(alm=alm,pipeline='smica',almfile=False,lmax=2048,overbin=10,threads=16,dd_dir=dd_files_dir,verbose=True)\n",
    "#overbin is leakage removal feature on the edge of the bins (the default bin size is delta_l=200). Let overbin=10 for optimal results.\n",
    "\n",
    "#Here we set 4 threads, bun below we ser 3 processes -> total of 4x3=12 threads\n",
    "c_nthreads_limit(4)\n",
    "\n",
    "for i in range(nsim):\n",
    "    start = time.time()\n",
    "    print(i)\n",
    "    alm = hp.read_alm('debeamed_smica_E_noise_'+str(i)+'.fits')\n",
    "    smica_dd_alm = dipole_doppler_low_res_removal_pol(alm,threads=4,processes=3)\n",
    "    hp.write_alm('smica_debeamed_dedopplered_noise_E_sim_'+str(i)+'.fits',smica_dd_alm)\n",
    "    end = time.time()\n",
    "    print(end-start)\n"
   ]
  }
 ],
 "metadata": {
  "kernelspec": {
   "display_name": "Python 3",
   "language": "python",
   "name": "python3"
  },
  "language_info": {
   "codemirror_mode": {
    "name": "ipython",
    "version": 3
   },
   "file_extension": ".py",
   "mimetype": "text/x-python",
   "name": "python",
   "nbconvert_exporter": "python",
   "pygments_lexer": "ipython3",
   "version": "3.8.5"
  },
  "toc": {
   "base_numbering": 1,
   "nav_menu": {},
   "number_sections": true,
   "sideBar": true,
   "skip_h1_title": false,
   "title_cell": "Table of Contents",
   "title_sidebar": "Contents",
   "toc_cell": false,
   "toc_position": {},
   "toc_section_display": true,
   "toc_window_display": false
  },
  "varInspector": {
   "cols": {
    "lenName": 16,
    "lenType": 16,
    "lenVar": 40
   },
   "kernels_config": {
    "python": {
     "delete_cmd_postfix": "",
     "delete_cmd_prefix": "del ",
     "library": "var_list.py",
     "varRefreshCmd": "print(var_dic_list())"
    },
    "r": {
     "delete_cmd_postfix": ") ",
     "delete_cmd_prefix": "rm(",
     "library": "var_list.r",
     "varRefreshCmd": "cat(var_dic_list()) "
    }
   },
   "types_to_exclude": [
    "module",
    "function",
    "builtin_function_or_method",
    "instance",
    "_Feature"
   ],
   "window_display": false
  }
 },
 "nbformat": 4,
 "nbformat_minor": 4
}
