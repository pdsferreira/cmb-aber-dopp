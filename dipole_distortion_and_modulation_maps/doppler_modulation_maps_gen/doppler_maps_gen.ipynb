{
 "cells": [
  {
   "cell_type": "markdown",
   "metadata": {},
   "source": [
    "# Generating Doppler Modulation maps"
   ]
  },
  {
   "cell_type": "markdown",
   "metadata": {},
   "source": [
    "## Importing Modules"
   ]
  },
  {
   "cell_type": "code",
   "execution_count": 1,
   "metadata": {},
   "outputs": [],
   "source": [
    "import os                                                                     \n",
    "from threadpoolctl import threadpool_limits\n",
    "import healpy as hp\n",
    "import numpy as np\n",
    "from tqdm import tqdm\n",
    "from astropy.io import fits as pyfits\n",
    "import random\n",
    "import pymp\n",
    "import time\n",
    "from tqdm import tqdm\n",
    "import matplotlib.pyplot as plt\n",
    "import matplotlib.pyplot as plt\n",
    "import numpy as np\n",
    "from matplotlib import colors\n",
    "from matplotlib.ticker import PercentFormatter\n",
    "import importlib\n",
    "import sys\n",
    "import multiprocessing as mp\n",
    "from math import sqrt\n",
    "from math import radians\n",
    "import gc\n",
    "import subprocess\n",
    "gc.disable()\n",
    "#######################################################################################################\n",
    "from cmbaberdopp_beta0p8 import * # cmbboost its a module created w/ the functions needed for this work          #\n",
    "                       # remember to change the path of maps on dipole_doppler_load_low_res function  #\n",
    "#######################################################################################################\n",
    "def c_nthreads_limit(n): # Function to change number of threads used on imported C/C++ functions\n",
    "    threadpool_limits(limits=n, user_api='blas')\n",
    "    threadpool_limits(limits=n, user_api='openmp')"
   ]
  },
  {
   "cell_type": "code",
   "execution_count": 2,
   "metadata": {},
   "outputs": [],
   "source": [
    "doppler_modulation_maps_dir = ''\n",
    "\n",
    "dipole_lat = 48.253\n",
    "dipole_long = 264.021\n",
    "dipole_beta = 0.00123357\n",
    "fiducialvec = hp.ang2vec(dipole_long,dipole_lat,lonlat=True)*dipole_beta\n",
    "fiducialvecnorm = np.linalg.norm(fiducialvec)\n",
    "\n",
    "nside=2048 # Setting the nside we will use\n",
    "npix = hp.nside2npix(nside) # Getting the number o pixels\n",
    "pixels = np.arange(npix) # [1] Array with the pixel indexes.\n",
    "theta_phi = hp.pix2ang(nside, pixels) # Getting pixel coordinates\n",
    "nside_rot = 2 # setting the directions do you want to generate the modulations\n"
   ]
  },
  {
   "cell_type": "code",
   "execution_count": 4,
   "metadata": {},
   "outputs": [
    {
     "name": "stderr",
     "output_type": "stream",
     "text": [
      "\r",
      "  0%|          | 0/48 [00:00<?, ?it/s]"
     ]
    },
    {
     "name": "stdout",
     "output_type": "stream",
     "text": [
      "pixel: 0 lon:  45.0 lat:  66.44353569089877\n",
      "londiff:  -0.0439453125 latdiff:  0.0\n"
     ]
    },
    {
     "name": "stderr",
     "output_type": "stream",
     "text": [
      "\r",
      "  2%|▏         | 1/48 [00:03<02:47,  3.56s/it]"
     ]
    },
    {
     "name": "stdout",
     "output_type": "stream",
     "text": [
      "pixel: 1 lon:  135.0 lat:  66.44353569089877\n",
      "londiff:  -0.0439453125 latdiff:  0.0\n"
     ]
    },
    {
     "name": "stderr",
     "output_type": "stream",
     "text": [
      "\r",
      "  4%|▍         | 2/48 [00:07<02:43,  3.56s/it]"
     ]
    },
    {
     "name": "stdout",
     "output_type": "stream",
     "text": [
      "pixel: 2 lon:  225.0 lat:  66.44353569089877\n",
      "londiff:  -0.0439453125 latdiff:  0.0\n"
     ]
    },
    {
     "name": "stderr",
     "output_type": "stream",
     "text": [
      "\r",
      "  6%|▋         | 3/48 [00:10<02:40,  3.56s/it]"
     ]
    },
    {
     "name": "stdout",
     "output_type": "stream",
     "text": [
      "pixel: 3 lon:  315.0 lat:  66.44353569089877\n",
      "londiff:  -0.0439453125 latdiff:  0.0\n"
     ]
    },
    {
     "name": "stderr",
     "output_type": "stream",
     "text": [
      "\r",
      "  8%|▊         | 4/48 [00:14<02:36,  3.55s/it]"
     ]
    },
    {
     "name": "stdout",
     "output_type": "stream",
     "text": [
      "pixel: 4 lon:  22.5 lat:  41.81031489577859\n",
      "londiff:  -0.02197265625 latdiff:  0.0\n"
     ]
    },
    {
     "name": "stderr",
     "output_type": "stream",
     "text": [
      "\r",
      " 10%|█         | 5/48 [00:17<02:32,  3.54s/it]"
     ]
    },
    {
     "name": "stdout",
     "output_type": "stream",
     "text": [
      "pixel: 5 lon:  67.5 lat:  41.81031489577859\n",
      "londiff:  -0.02197265625001421 latdiff:  0.0\n"
     ]
    },
    {
     "name": "stderr",
     "output_type": "stream",
     "text": [
      "\r",
      " 12%|█▎        | 6/48 [00:21<02:28,  3.53s/it]"
     ]
    },
    {
     "name": "stdout",
     "output_type": "stream",
     "text": [
      "pixel: 6 lon:  112.49999999999999 lat:  41.81031489577859\n",
      "londiff:  -0.02197265625 latdiff:  0.0\n"
     ]
    },
    {
     "name": "stderr",
     "output_type": "stream",
     "text": [
      "\r",
      " 15%|█▍        | 7/48 [00:24<02:24,  3.52s/it]"
     ]
    },
    {
     "name": "stdout",
     "output_type": "stream",
     "text": [
      "pixel: 7 lon:  157.5 lat:  41.81031489577859\n",
      "londiff:  -0.02197265625 latdiff:  0.0\n"
     ]
    },
    {
     "name": "stderr",
     "output_type": "stream",
     "text": [
      "\r",
      " 17%|█▋        | 8/48 [00:28<02:21,  3.53s/it]"
     ]
    },
    {
     "name": "stdout",
     "output_type": "stream",
     "text": [
      "pixel: 8 lon:  202.49999999999997 lat:  41.81031489577859\n",
      "londiff:  -0.02197265624997158 latdiff:  0.0\n"
     ]
    },
    {
     "name": "stderr",
     "output_type": "stream",
     "text": [
      "\r",
      " 19%|█▉        | 9/48 [00:31<02:18,  3.55s/it]"
     ]
    },
    {
     "name": "stdout",
     "output_type": "stream",
     "text": [
      "pixel: 9 lon:  247.49999999999997 lat:  41.81031489577859\n",
      "londiff:  -0.02197265624997158 latdiff:  0.0\n"
     ]
    },
    {
     "name": "stderr",
     "output_type": "stream",
     "text": [
      "\r",
      " 21%|██        | 10/48 [00:35<02:17,  3.61s/it]"
     ]
    },
    {
     "name": "stdout",
     "output_type": "stream",
     "text": [
      "pixel: 10 lon:  292.5 lat:  41.81031489577859\n",
      "londiff:  -0.021972656250056843 latdiff:  0.0\n"
     ]
    },
    {
     "name": "stderr",
     "output_type": "stream",
     "text": [
      "\r",
      " 23%|██▎       | 11/48 [00:39<02:13,  3.62s/it]"
     ]
    },
    {
     "name": "stdout",
     "output_type": "stream",
     "text": [
      "pixel: 11 lon:  337.49999999999994 lat:  41.81031489577859\n",
      "londiff:  -0.02197265625 latdiff:  0.0\n"
     ]
    },
    {
     "name": "stderr",
     "output_type": "stream",
     "text": [
      "\r",
      " 25%|██▌       | 12/48 [00:43<02:15,  3.75s/it]"
     ]
    },
    {
     "name": "stdout",
     "output_type": "stream",
     "text": [
      "pixel: 12 lon:  0.0 lat:  19.47122063449069\n",
      "londiff:  0.0 latdiff:  -0.019781134053218352\n"
     ]
    },
    {
     "name": "stderr",
     "output_type": "stream",
     "text": [
      "\r",
      " 27%|██▋       | 13/48 [00:47<02:12,  3.78s/it]"
     ]
    },
    {
     "name": "stdout",
     "output_type": "stream",
     "text": [
      "pixel: 13 lon:  45.0 lat:  19.47122063449069\n",
      "londiff:  0.0 latdiff:  -0.019781134053218352\n"
     ]
    },
    {
     "name": "stderr",
     "output_type": "stream",
     "text": [
      "\r",
      " 29%|██▉       | 14/48 [00:51<02:10,  3.84s/it]"
     ]
    },
    {
     "name": "stdout",
     "output_type": "stream",
     "text": [
      "pixel: 14 lon:  90.0 lat:  19.47122063449069\n",
      "londiff:  0.0 latdiff:  -0.019781134053218352\n"
     ]
    },
    {
     "name": "stderr",
     "output_type": "stream",
     "text": [
      "\r",
      " 31%|███▏      | 15/48 [00:54<02:06,  3.82s/it]"
     ]
    },
    {
     "name": "stdout",
     "output_type": "stream",
     "text": [
      "pixel: 15 lon:  135.0 lat:  19.47122063449069\n",
      "londiff:  0.0 latdiff:  -0.019781134053218352\n"
     ]
    },
    {
     "name": "stderr",
     "output_type": "stream",
     "text": [
      "\r",
      " 33%|███▎      | 16/48 [00:58<02:02,  3.84s/it]"
     ]
    },
    {
     "name": "stdout",
     "output_type": "stream",
     "text": [
      "pixel: 16 lon:  180.0 lat:  19.47122063449069\n",
      "londiff:  0.0 latdiff:  -0.019781134053218352\n"
     ]
    },
    {
     "name": "stderr",
     "output_type": "stream",
     "text": [
      "\r",
      " 35%|███▌      | 17/48 [01:02<01:58,  3.84s/it]"
     ]
    },
    {
     "name": "stdout",
     "output_type": "stream",
     "text": [
      "pixel: 17 lon:  224.99999999999997 lat:  19.47122063449069\n",
      "londiff:  0.0 latdiff:  -0.019781134053218352\n"
     ]
    },
    {
     "name": "stderr",
     "output_type": "stream",
     "text": [
      "\r",
      " 38%|███▊      | 18/48 [01:07<02:02,  4.08s/it]"
     ]
    },
    {
     "name": "stdout",
     "output_type": "stream",
     "text": [
      "pixel: 18 lon:  270.0 lat:  19.47122063449069\n",
      "londiff:  0.0 latdiff:  -0.019781134053218352\n"
     ]
    },
    {
     "name": "stderr",
     "output_type": "stream",
     "text": [
      "\r",
      " 40%|███▉      | 19/48 [01:11<01:55,  4.00s/it]"
     ]
    },
    {
     "name": "stdout",
     "output_type": "stream",
     "text": [
      "pixel: 19 lon:  315.0 lat:  19.47122063449069\n",
      "londiff:  0.0 latdiff:  -0.019781134053218352\n"
     ]
    },
    {
     "name": "stderr",
     "output_type": "stream",
     "text": [
      "\r",
      " 42%|████▏     | 20/48 [01:14<01:49,  3.91s/it]"
     ]
    },
    {
     "name": "stdout",
     "output_type": "stream",
     "text": [
      "pixel: 20 lon:  22.5 lat:  0.0\n",
      "londiff:  0.0 latdiff:  0.018650970222964247\n"
     ]
    },
    {
     "name": "stderr",
     "output_type": "stream",
     "text": [
      "\r",
      " 44%|████▍     | 21/48 [01:18<01:43,  3.83s/it]"
     ]
    },
    {
     "name": "stdout",
     "output_type": "stream",
     "text": [
      "pixel: 21 lon:  67.5 lat:  0.0\n",
      "londiff:  0.0 latdiff:  0.018650970222964247\n"
     ]
    },
    {
     "name": "stderr",
     "output_type": "stream",
     "text": [
      "\r",
      " 46%|████▌     | 22/48 [01:22<01:41,  3.89s/it]"
     ]
    },
    {
     "name": "stdout",
     "output_type": "stream",
     "text": [
      "pixel: 22 lon:  112.49999999999999 lat:  0.0\n",
      "londiff:  0.0 latdiff:  0.018650970222964247\n"
     ]
    },
    {
     "name": "stderr",
     "output_type": "stream",
     "text": [
      "\r",
      " 48%|████▊     | 23/48 [01:26<01:36,  3.85s/it]"
     ]
    },
    {
     "name": "stdout",
     "output_type": "stream",
     "text": [
      "pixel: 23 lon:  157.5 lat:  0.0\n",
      "londiff:  0.0 latdiff:  0.018650970222964247\n"
     ]
    },
    {
     "name": "stderr",
     "output_type": "stream",
     "text": [
      "\r",
      " 50%|█████     | 24/48 [01:29<01:31,  3.82s/it]"
     ]
    },
    {
     "name": "stdout",
     "output_type": "stream",
     "text": [
      "pixel: 24 lon:  202.49999999999997 lat:  0.0\n",
      "londiff:  0.0 latdiff:  0.018650970222964247\n"
     ]
    },
    {
     "name": "stderr",
     "output_type": "stream",
     "text": [
      "\r",
      " 52%|█████▏    | 25/48 [01:33<01:27,  3.81s/it]"
     ]
    },
    {
     "name": "stdout",
     "output_type": "stream",
     "text": [
      "pixel: 25 lon:  247.49999999999997 lat:  0.0\n",
      "londiff:  0.0 latdiff:  0.018650970222964247\n"
     ]
    },
    {
     "name": "stderr",
     "output_type": "stream",
     "text": [
      "\r",
      " 54%|█████▍    | 26/48 [01:37<01:24,  3.83s/it]"
     ]
    },
    {
     "name": "stdout",
     "output_type": "stream",
     "text": [
      "pixel: 26 lon:  292.5 lat:  0.0\n",
      "londiff:  0.0 latdiff:  0.018650970222964247\n"
     ]
    },
    {
     "name": "stderr",
     "output_type": "stream",
     "text": [
      "\r",
      " 56%|█████▋    | 27/48 [01:42<01:24,  4.00s/it]"
     ]
    },
    {
     "name": "stdout",
     "output_type": "stream",
     "text": [
      "pixel: 27 lon:  337.49999999999994 lat:  0.0\n",
      "londiff:  0.0 latdiff:  0.018650970222964247\n"
     ]
    },
    {
     "name": "stderr",
     "output_type": "stream",
     "text": [
      "\r",
      " 58%|█████▊    | 28/48 [01:45<01:18,  3.91s/it]"
     ]
    },
    {
     "name": "stdout",
     "output_type": "stream",
     "text": [
      "pixel: 28 lon:  0.0 lat:  -19.47122063449069\n",
      "londiff:  0.0 latdiff:  0.01978113405320414\n"
     ]
    },
    {
     "name": "stderr",
     "output_type": "stream",
     "text": [
      "\r",
      " 60%|██████    | 29/48 [01:49<01:13,  3.87s/it]"
     ]
    },
    {
     "name": "stdout",
     "output_type": "stream",
     "text": [
      "pixel: 29 lon:  45.0 lat:  -19.47122063449069\n",
      "londiff:  0.0 latdiff:  0.01978113405320414\n"
     ]
    },
    {
     "name": "stderr",
     "output_type": "stream",
     "text": [
      "\r",
      " 62%|██████▎   | 30/48 [01:53<01:08,  3.83s/it]"
     ]
    },
    {
     "name": "stdout",
     "output_type": "stream",
     "text": [
      "pixel: 30 lon:  90.0 lat:  -19.47122063449069\n",
      "londiff:  0.0 latdiff:  0.01978113405320414\n"
     ]
    },
    {
     "name": "stderr",
     "output_type": "stream",
     "text": [
      "\r",
      " 65%|██████▍   | 31/48 [01:57<01:07,  3.98s/it]"
     ]
    },
    {
     "name": "stdout",
     "output_type": "stream",
     "text": [
      "pixel: 31 lon:  135.0 lat:  -19.47122063449069\n",
      "londiff:  0.0 latdiff:  0.01978113405320414\n"
     ]
    },
    {
     "name": "stderr",
     "output_type": "stream",
     "text": [
      "\r",
      " 67%|██████▋   | 32/48 [02:01<01:02,  3.92s/it]"
     ]
    },
    {
     "name": "stdout",
     "output_type": "stream",
     "text": [
      "pixel: 32 lon:  180.0 lat:  -19.47122063449069\n",
      "londiff:  0.0 latdiff:  0.01978113405320414\n"
     ]
    },
    {
     "name": "stderr",
     "output_type": "stream",
     "text": [
      "\r",
      " 69%|██████▉   | 33/48 [02:05<00:57,  3.83s/it]"
     ]
    },
    {
     "name": "stdout",
     "output_type": "stream",
     "text": [
      "pixel: 33 lon:  224.99999999999997 lat:  -19.47122063449069\n",
      "londiff:  0.0 latdiff:  0.01978113405320414\n"
     ]
    },
    {
     "name": "stderr",
     "output_type": "stream",
     "text": [
      "\r",
      " 71%|███████   | 34/48 [02:08<00:52,  3.78s/it]"
     ]
    },
    {
     "name": "stdout",
     "output_type": "stream",
     "text": [
      "pixel: 34 lon:  270.0 lat:  -19.47122063449069\n",
      "londiff:  0.0 latdiff:  0.01978113405320414\n"
     ]
    },
    {
     "name": "stderr",
     "output_type": "stream",
     "text": [
      "\r",
      " 73%|███████▎  | 35/48 [02:12<00:48,  3.74s/it]"
     ]
    },
    {
     "name": "stdout",
     "output_type": "stream",
     "text": [
      "pixel: 35 lon:  315.0 lat:  -19.47122063449069\n",
      "londiff:  0.0 latdiff:  0.01978113405320414\n"
     ]
    },
    {
     "name": "stderr",
     "output_type": "stream",
     "text": [
      "\r",
      " 75%|███████▌  | 36/48 [02:15<00:44,  3.69s/it]"
     ]
    },
    {
     "name": "stdout",
     "output_type": "stream",
     "text": [
      "pixel: 36 lon:  22.5 lat:  -41.81031489577862\n",
      "londiff:  -0.02197265625 latdiff:  0.0\n"
     ]
    },
    {
     "name": "stderr",
     "output_type": "stream",
     "text": [
      "\r",
      " 77%|███████▋  | 37/48 [02:19<00:41,  3.74s/it]"
     ]
    },
    {
     "name": "stdout",
     "output_type": "stream",
     "text": [
      "pixel: 37 lon:  67.5 lat:  -41.81031489577862\n",
      "londiff:  -0.02197265625001421 latdiff:  0.0\n"
     ]
    },
    {
     "name": "stderr",
     "output_type": "stream",
     "text": [
      "\r",
      " 79%|███████▉  | 38/48 [02:23<00:37,  3.76s/it]"
     ]
    },
    {
     "name": "stdout",
     "output_type": "stream",
     "text": [
      "pixel: 38 lon:  112.49999999999999 lat:  -41.81031489577862\n",
      "londiff:  -0.02197265625 latdiff:  0.0\n"
     ]
    },
    {
     "name": "stderr",
     "output_type": "stream",
     "text": [
      "\r",
      " 81%|████████▏ | 39/48 [02:27<00:33,  3.77s/it]"
     ]
    },
    {
     "name": "stdout",
     "output_type": "stream",
     "text": [
      "pixel: 39 lon:  157.5 lat:  -41.81031489577862\n",
      "londiff:  -0.02197265625 latdiff:  0.0\n"
     ]
    },
    {
     "name": "stderr",
     "output_type": "stream",
     "text": [
      "\r",
      " 83%|████████▎ | 40/48 [02:31<00:31,  3.90s/it]"
     ]
    },
    {
     "name": "stdout",
     "output_type": "stream",
     "text": [
      "pixel: 40 lon:  202.49999999999997 lat:  -41.81031489577862\n",
      "londiff:  -0.02197265624997158 latdiff:  0.0\n"
     ]
    },
    {
     "name": "stderr",
     "output_type": "stream",
     "text": [
      "\r",
      " 85%|████████▌ | 41/48 [02:35<00:26,  3.83s/it]"
     ]
    },
    {
     "name": "stdout",
     "output_type": "stream",
     "text": [
      "pixel: 41 lon:  247.49999999999997 lat:  -41.81031489577862\n",
      "londiff:  -0.02197265624997158 latdiff:  0.0\n"
     ]
    },
    {
     "name": "stderr",
     "output_type": "stream",
     "text": [
      "\r",
      " 88%|████████▊ | 42/48 [02:38<00:22,  3.80s/it]"
     ]
    },
    {
     "name": "stdout",
     "output_type": "stream",
     "text": [
      "pixel: 42 lon:  292.5 lat:  -41.81031489577862\n",
      "londiff:  -0.021972656250056843 latdiff:  0.0\n"
     ]
    },
    {
     "name": "stderr",
     "output_type": "stream",
     "text": [
      "\r",
      " 90%|████████▉ | 43/48 [02:42<00:18,  3.74s/it]"
     ]
    },
    {
     "name": "stdout",
     "output_type": "stream",
     "text": [
      "pixel: 43 lon:  337.49999999999994 lat:  -41.81031489577862\n",
      "londiff:  -0.02197265625 latdiff:  0.0\n"
     ]
    },
    {
     "name": "stderr",
     "output_type": "stream",
     "text": [
      "\r",
      " 92%|█████████▏| 44/48 [02:46<00:14,  3.74s/it]"
     ]
    },
    {
     "name": "stdout",
     "output_type": "stream",
     "text": [
      "pixel: 44 lon:  45.0 lat:  -66.44353569089876\n",
      "londiff:  -0.0439453125 latdiff:  0.0\n"
     ]
    },
    {
     "name": "stderr",
     "output_type": "stream",
     "text": [
      "\r",
      " 94%|█████████▍| 45/48 [02:50<00:11,  3.77s/it]"
     ]
    },
    {
     "name": "stdout",
     "output_type": "stream",
     "text": [
      "pixel: 45 lon:  135.0 lat:  -66.44353569089876\n",
      "londiff:  -0.0439453125 latdiff:  0.0\n"
     ]
    },
    {
     "name": "stderr",
     "output_type": "stream",
     "text": [
      "\r",
      " 96%|█████████▌| 46/48 [02:53<00:07,  3.78s/it]"
     ]
    },
    {
     "name": "stdout",
     "output_type": "stream",
     "text": [
      "pixel: 46 lon:  225.0 lat:  -66.44353569089876\n",
      "londiff:  -0.0439453125 latdiff:  0.0\n"
     ]
    },
    {
     "name": "stderr",
     "output_type": "stream",
     "text": [
      "\r",
      " 98%|█████████▊| 47/48 [02:57<00:03,  3.74s/it]"
     ]
    },
    {
     "name": "stdout",
     "output_type": "stream",
     "text": [
      "pixel: 47 lon:  315.0 lat:  -66.44353569089876\n",
      "londiff:  -0.0439453125 latdiff:  0.0\n"
     ]
    },
    {
     "name": "stderr",
     "output_type": "stream",
     "text": [
      "100%|██████████| 48/48 [03:01<00:00,  3.78s/it]\n"
     ]
    }
   ],
   "source": [
    "for n in tqdm(range(hp.nside2npix(nside_rot))):\n",
    "    longdir,latdir=hp.pix2ang(nside_rot,n,lonlat=True)\n",
    "    print('pixel:',n,'lon: ',longdir,'lat: ',latdir)\n",
    "    maprotated = doppler_boost_map_dir_s(beta_var=dipole_beta,nside_var=nside,longdir=longdir,latdir=latdir)\n",
    "    # getting the direction of the pixel with max modulation and comparing w/ boost direction.\n",
    "    longmeasured,latmeasured=hp.pix2ang(nside,np.argmax(maprotated),lonlat=True) \n",
    "    print('londiff: ',longmeasured-longdir,'latdiff: ',latmeasured-latdir)\n",
    "    hp.write_map(doppler_modulation_maps_dir+'dopplermap_ns2_'+str(n+1)+'.fits',maprotated,dtype=np.float64,overwrite=True)"
   ]
  },
  {
   "cell_type": "markdown",
   "metadata": {},
   "source": [
    "If you want a high number of directions it will useful to parallelize the for loop using multiprocessing - but pay attention on RAM usage."
   ]
  },
  {
   "cell_type": "code",
   "execution_count": null,
   "metadata": {},
   "outputs": [],
   "source": []
  }
 ],
 "metadata": {
  "kernelspec": {
   "display_name": "Python 3",
   "language": "python",
   "name": "python3"
  },
  "language_info": {
   "codemirror_mode": {
    "name": "ipython",
    "version": 3
   },
   "file_extension": ".py",
   "mimetype": "text/x-python",
   "name": "python",
   "nbconvert_exporter": "python",
   "pygments_lexer": "ipython3",
   "version": "3.8.5"
  },
  "toc": {
   "base_numbering": 1,
   "nav_menu": {},
   "number_sections": true,
   "sideBar": true,
   "skip_h1_title": false,
   "title_cell": "Table of Contents",
   "title_sidebar": "Contents",
   "toc_cell": false,
   "toc_position": {},
   "toc_section_display": true,
   "toc_window_display": false
  },
  "varInspector": {
   "cols": {
    "lenName": 16,
    "lenType": 16,
    "lenVar": 40
   },
   "kernels_config": {
    "python": {
     "delete_cmd_postfix": "",
     "delete_cmd_prefix": "del ",
     "library": "var_list.py",
     "varRefreshCmd": "print(var_dic_list())"
    },
    "r": {
     "delete_cmd_postfix": ") ",
     "delete_cmd_prefix": "rm(",
     "library": "var_list.r",
     "varRefreshCmd": "cat(var_dic_list()) "
    }
   },
   "types_to_exclude": [
    "module",
    "function",
    "builtin_function_or_method",
    "instance",
    "_Feature"
   ],
   "window_display": false
  }
 },
 "nbformat": 4,
 "nbformat_minor": 4
}
