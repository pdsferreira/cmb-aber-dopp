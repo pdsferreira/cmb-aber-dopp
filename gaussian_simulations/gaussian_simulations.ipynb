{
 "cells": [
  {
   "cell_type": "markdown",
   "metadata": {},
   "source": [
    "# Generating Gaussian sims"
   ]
  },
  {
   "cell_type": "markdown",
   "metadata": {},
   "source": [
    "## Importing Modules"
   ]
  },
  {
   "cell_type": "code",
   "execution_count": null,
   "metadata": {},
   "outputs": [],
   "source": [
    "import os                                                                     \n",
    "from threadpoolctl import threadpool_limits\n",
    "import healpy as hp\n",
    "import numpy as np\n",
    "from tqdm import tqdm\n",
    "from astropy.io import fits as pyfits\n",
    "import random\n",
    "import pymp\n",
    "import time\n",
    "from tqdm import tqdm\n",
    "import matplotlib.pyplot as plt\n",
    "import matplotlib.pyplot as plt\n",
    "import numpy as np\n",
    "from matplotlib import colors\n",
    "from matplotlib.ticker import PercentFormatter\n",
    "import importlib\n",
    "import sys\n",
    "import multiprocessing as mp\n",
    "from math import sqrt\n",
    "from math import radians\n",
    "import gc\n",
    "import subprocess\n",
    "gc.disable()\n",
    "#######################################################################################################\n",
    "from cmbaberdopp_beta0p8 import * # cmbboost its a module created w/ the functions needed for this work          #\n",
    "                       # remember to change the path of maps on dipole_doppler_load_low_res function  #\n",
    "#######################################################################################################\n",
    "def c_nthreads_limit(n): # Function to change number of threads used on imported C/C++ functions\n",
    "    threadpool_limits(limits=n, user_api='blas')\n",
    "    threadpool_limits(limits=n, user_api='openmp')"
   ]
  },
  {
   "cell_type": "code",
   "execution_count": null,
   "metadata": {},
   "outputs": [],
   "source": [
    "nsims = 3072\n",
    "\n",
    "nthreads= 4\n",
    "c_nthreads_limit(nthreads)\n",
    "nprocesses = 3\n",
    "\n",
    "gaussian_alms_dir = ''\n",
    "\n",
    "nside_rot = 2 # setting the directions do you want to apply the modulations\n",
    "\n",
    "clTT = hp.read_cl(\"cl_TT_planck_2019.fits\")\n",
    "clTE = hp.read_cl(\"cl_TE_planck_2019.fits\")\n",
    "clEE = hp.read_cl(\"cl_EE_planck_2019.fits\")\n",
    "clBB = np.zeros(clTT.size)"
   ]
  },
  {
   "cell_type": "markdown",
   "metadata": {},
   "source": [
    "If you want a high number of directions it will useful to parallelize the for loop using multiprocessing - but pay attention on RAM usage."
   ]
  },
  {
   "cell_type": "code",
   "execution_count": null,
   "metadata": {},
   "outputs": [],
   "source": [
    "def gaussian_loop(i):\n",
    "    start = time.time()\n",
    "    alm_T, alm_E, alm_B = hp.synalm((clTT, clTE, clEE, clBB),lmax=2048,new=False,verbose=False)\n",
    "    hp.write_alm(gaussian_alms_dir+'gaussian_alm_T_'+str(i)+'.fits',alm_T,out_dtype=np.float64)\n",
    "    hp.write_alm(gaussian_alms_dir+'gaussian_alm_E_'+str(i)+'.fits',alm_E,out_dtype=np.float64)\n",
    "    end = time.time()\n",
    "    print('sim: ',i,' time: ',end-start)\n",
    "pool = mp.Pool(processes=nprocesses)\n",
    "pool.map(gaussian_loop, range(nsims))\n",
    "pool.terminate()\n",
    "pool.join()"
   ]
  },
  {
   "cell_type": "code",
   "execution_count": null,
   "metadata": {},
   "outputs": [],
   "source": []
  }
 ],
 "metadata": {
  "kernelspec": {
   "display_name": "Python 3",
   "language": "python",
   "name": "python3"
  },
  "language_info": {
   "codemirror_mode": {
    "name": "ipython",
    "version": 3
   },
   "file_extension": ".py",
   "mimetype": "text/x-python",
   "name": "python",
   "nbconvert_exporter": "python",
   "pygments_lexer": "ipython3",
   "version": "3.8.5"
  },
  "toc": {
   "base_numbering": 1,
   "nav_menu": {},
   "number_sections": true,
   "sideBar": true,
   "skip_h1_title": false,
   "title_cell": "Table of Contents",
   "title_sidebar": "Contents",
   "toc_cell": false,
   "toc_position": {},
   "toc_section_display": true,
   "toc_window_display": false
  },
  "varInspector": {
   "cols": {
    "lenName": 16,
    "lenType": 16,
    "lenVar": 40
   },
   "kernels_config": {
    "python": {
     "delete_cmd_postfix": "",
     "delete_cmd_prefix": "del ",
     "library": "var_list.py",
     "varRefreshCmd": "print(var_dic_list())"
    },
    "r": {
     "delete_cmd_postfix": ") ",
     "delete_cmd_prefix": "rm(",
     "library": "var_list.r",
     "varRefreshCmd": "cat(var_dic_list()) "
    }
   },
   "types_to_exclude": [
    "module",
    "function",
    "builtin_function_or_method",
    "instance",
    "_Feature"
   ],
   "window_display": false
  }
 },
 "nbformat": 4,
 "nbformat_minor": 4
}
