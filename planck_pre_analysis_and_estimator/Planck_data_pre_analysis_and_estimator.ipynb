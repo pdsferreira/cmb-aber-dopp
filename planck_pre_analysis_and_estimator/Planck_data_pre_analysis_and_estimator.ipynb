{
 "cells": [
  {
   "cell_type": "code",
   "execution_count": 1,
   "metadata": {},
   "outputs": [],
   "source": [
    "import os\n",
    "import wget\n",
    "import healpy as hp\n",
    "import numpy as np\n",
    "from tqdm import tqdm\n",
    "from astropy.io import fits as pyfits\n",
    "import random\n",
    "import pymp\n",
    "import time\n",
    "from tqdm import tqdm\n",
    "import matplotlib.pyplot as plt\n",
    "import numpy as np\n",
    "from matplotlib import colors\n",
    "from matplotlib.ticker import PercentFormatter\n",
    "from threadpoolctl import threadpool_limits\n",
    "import importlib\n",
    "import sys\n",
    "import multiprocessing as mp\n",
    "from math import sqrt\n",
    "from math import radians\n",
    "import gc\n",
    "import subprocess\n",
    "gc.disable()\n",
    "#######################################################################################################\n",
    "from cmbaberdopp import * # cmbboost its a module created w/ the functions needed for this work          #\n",
    "                       # remember to change the path of maps on dipole_doppler_load_low_res function  #\n",
    "#######################################################################################################\n",
    "def c_nthreads_limit(n): # Function to change number of threads used on imported C/C++ functions\n",
    "    threadpool_limits(limits=n, user_api='blas')\n",
    "    threadpool_limits(limits=n, user_api='openmp')"
   ]
  },
  {
   "cell_type": "code",
   "execution_count": null,
   "metadata": {},
   "outputs": [],
   "source": [
    "# Download Planck final SMICA and NILC maps to get realistic beam function\n",
    "\n",
    "wget.download('http://pla.esac.esa.int/pla/aio/product-action?MAP.MAP_ID=COM_CMB_IQU-smica_2048_R3.00_full.fits')\n",
    "wget.download('http://pla.esac.esa.int/pla/aio/product-action?MAP.MAP_ID=COM_CMB_IQU-nilc_2048_R3.00_full.fits')"
   ]
  },
  {
   "cell_type": "markdown",
   "metadata": {},
   "source": [
    "# Debeamed"
   ]
  },
  {
   "cell_type": "code",
   "execution_count": null,
   "metadata": {},
   "outputs": [],
   "source": [
    "#### Importing effective beam and masks files####\n",
    "\n",
    "lmax_var = 2048\n",
    "pw = hp.pixwin(nside=2048,lmax=lmax_var)\n",
    "\n",
    "clfile_TT='cl_TT_planck_2019.fits'\n",
    "cl_TT = hp.read_cl(clfile_TT)\n",
    "clfile_EE='cl_EE_planck_2019.fits'\n",
    "cl_EE = hp.read_cl(clfile_EE)\n",
    "clfile_TE='cl_TE_planck_2019.fits'\n",
    "cl_TE = hp.read_cl(clfile_TE)\n",
    "\n",
    "\n",
    "nilcgb = pyfits.open('COM_CMB_IQU-nilc_2048_R3.00_full.fits')[2].data['INT_BEAM'][0:lmax_var]\n",
    "nilcgb[0]=1\n",
    "nilcgb[1]=1\n",
    "#hp.write_cl('nilc_T_effective_beam.fits',nilcgb)\n",
    "nilcgb_P = pyfits.open('COM_CMB_IQU-nilc_2048_R3.00_full.fits')[2].data['POL_BEAM'][0:lmax_var]\n",
    "nilcgb_P[0]=1\n",
    "nilcgb_P[1]=1\n",
    "#hp.write_cl('nilc_P_effective_beam.fits',nilcgb_P)\n",
    "smicagb = pyfits.open('COM_CMB_IQU-smica_2048_R3.00_full.fits')[2].data['INT_BEAM'][0:lmax_var]\n",
    "smicagb[0]=1\n",
    "smicagb[1]=1\n",
    "#hp.write_cl('smica_T_effective_beam.fits',smicagb)\n",
    "smicagb_P = pyfits.open('COM_CMB_IQU-smica_2048_R3.00_full.fits')[2].data['POL_BEAM'][0:lmax_var]\n",
    "smicagb_P[0]=1\n",
    "smicagb_P[1]=1\n",
    "#hp.write_cl('smica_P_effective_beam.fits',smicagb_P)\n",
    "\n",
    "masksymm_temp = hp.read_map('temp_symmmask_pr3.fits',verbose=False)\n",
    "masksymm_pol = hp.read_map('pol_symmmask_pr3.fits',verbose=False)\n"
   ]
  },
  {
   "cell_type": "code",
   "execution_count": null,
   "metadata": {},
   "outputs": [],
   "source": [
    "#Debeamed noise\n",
    "nilc_T_nl = hp.read_cl('nl_nilc_T_symmmasked.fits')\n",
    "smica_T_nl = hp.read_cl('nl_smica_T_symmmasked.fits')\n",
    "nilc_E_nl = hp.read_cl('nl_nilc_E_symmmasked.fits')\n",
    "smica_E_nl = hp.read_cl('nl_smica_E_symmmasked.fits')"
   ]
  },
  {
   "cell_type": "code",
   "execution_count": 3,
   "metadata": {},
   "outputs": [],
   "source": [
    "pw = hp.pixwin(nside=2048,lmax=2048)"
   ]
  },
  {
   "cell_type": "code",
   "execution_count": null,
   "metadata": {
    "scrolled": true
   },
   "outputs": [],
   "source": [
    "c_nthreads_limit(2)\n",
    "\n",
    "##### Importing Planck OBS maps #####\n",
    "nilc_I_obs_map, nilc_Q_obs_map, nilc_U_obs_map = hp.read_map('COM_CMB_IQU-nilc_2048_R3.00_full.fits',field=(0,1,2))\n",
    "nilc_T_obs_alm, nilc_E_obs_alm, nilc_B_obs_alm = hp.map2alm((nilc_I_obs_map,nilc_Q_obs_map, nilc_U_obs_map))\n",
    "nilc_T_obs_debeamed_alm = hp.almxfl(nilc_T_obs_alm,1/(nilcgb[0:lmax_var]))\n",
    "nilc_E_obs_debeamed_alm = hp.almxfl(nilc_E_obs_alm,1/(nilcgb_P[0:lmax_var]))\n",
    "nilc_B_obs_debeamed_alm = hp.almxfl(nilc_B_obs_alm,1/(nilcgb_P[0:lmax_var]))\n",
    "\n",
    "hp.write_alm('planck_obs_nilc_T_obs_debeamed_alm.fits',nilc_T_obs_debeamed_alm,overwrite=True)\n",
    "hp.write_alm('planck_obs_nilc_E_obs_debeamed_alm.fits',nilc_E_obs_debeamed_alm,overwrite=True)\n",
    "hp.write_alm('planck_obs_nilc_B_obs_debeamed_alm.fits',nilc_B_obs_debeamed_alm,overwrite=True)\n",
    "\n",
    "smica_I_obs_map, smica_Q_obs_map, smica_U_obs_map = hp.read_map('COM_CMB_IQU-smica_2048_R3.00_full.fits',field=(0,1,2))\n",
    "smica_T_obs_alm, smica_E_obs_alm, smica_B_obs_alm = hp.map2alm((smica_I_obs_map,smica_Q_obs_map, smica_U_obs_map))\n",
    "smica_T_obs_debeamed_alm = hp.almxfl(smica_T_obs_alm,1/(smicagb[0:lmax_var]))\n",
    "smica_E_obs_debeamed_alm = hp.almxfl(smica_E_obs_alm,1/(smicagb_P[0:lmax_var]))\n",
    "smica_B_obs_debeamed_alm = hp.almxfl(smica_B_obs_alm,1/(smicagb_P[0:lmax_var]))\n",
    "\n",
    "hp.write_alm('planck_obs_smica_T_obs_debeamed_alm.fits',smica_T_obs_debeamed_alm,overwrite=True)\n",
    "hp.write_alm('planck_obs_smica_E_obs_debeamed_alm.fits',smica_E_obs_debeamed_alm,overwrite=True)\n",
    "hp.write_alm('planck_obs_smica_B_obs_debeamed_alm.fits',smica_B_obs_debeamed_alm,overwrite=True)\n",
    "\n",
    "nilc_I_obs_debeamed_map, nilc_Q_obs_debeamed_map, nilc_U_obs_debeamed_map = hp.alm2map((nilc_T_obs_debeamed_alm,nilc_E_obs_debeamed_alm,nilc_B_obs_debeamed_alm),nside=2048)\n",
    "smica_I_obs_debeamed_map, smica_Q_obs_debeamed_map, smica_U_obs_debeamed_map = hp.alm2map((smica_T_obs_debeamed_alm,smica_E_obs_debeamed_alm,smica_B_obs_debeamed_alm),nside=2048)\n",
    "\n",
    "nilc_I_obs_symmasked_map = nilc_I_obs_debeamed_map*masksymm_temp\n",
    "nilc_Q_obs_symmasked_map = nilc_Q_obs_debeamed_map*masksymm_pol\n",
    "nilc_U_obs_symmasked_map = nilc_U_obs_debeamed_map*masksymm_pol\n",
    "smica_I_obs_symmasked_map = smica_I_obs_debeamed_map*masksymm_temp\n",
    "smica_Q_obs_symmasked_map = smica_Q_obs_debeamed_map*masksymm_pol\n",
    "smica_U_obs_symmasked_map = smica_U_obs_debeamed_map*masksymm_pol"
   ]
  },
  {
   "cell_type": "code",
   "execution_count": null,
   "metadata": {},
   "outputs": [],
   "source": [
    "nilc_alm_T_debeamed_symmasked,nilc_alm_E_debeamed_symmasked,nilc_alm_B_debeamed_symmasked = hp.map2alm((nilc_I_obs_symmasked_map,nilc_Q_obs_symmasked_map,nilc_U_obs_symmasked_map),lmax=2048)\n",
    "smica_alm_T_debeamed_symmasked,smica_alm_E_debeamed_symmasked,smica_alm_B_debeamed_symmasked = hp.map2alm((smica_I_obs_symmasked_map,smica_Q_obs_symmasked_map,smica_U_obs_symmasked_map),lmax=2048)\n",
    "\n",
    "hp.write_alm('planck_obs_nilc_debeamed_symmasked_alm_T.fits',nilc_alm_T_debeamed_symmasked)\n",
    "hp.write_alm('planck_obs_smica_debeamed_symmasked_alm_T.fits',smica_alm_T_debeamed_symmasked)\n",
    "hp.write_alm('planck_obs_nilc_debeamed_symmasked_alm_E.fits',nilc_alm_E_debeamed_symmasked)\n",
    "hp.write_alm('planck_obs_smica_debeamed_symmasked_alm_E.fits',smica_alm_E_debeamed_symmasked)"
   ]
  },
  {
   "cell_type": "code",
   "execution_count": null,
   "metadata": {},
   "outputs": [],
   "source": [
    "clTTnilcOBS, clEEnilcOBS, clBBnilcOBS, clTEnilcOBS, clEBnilcOBS, clTBnilcOBS  = hp.anafast((nilc_I_obs_symmasked_map,nilc_Q_obs_symmasked_map,nilc_U_obs_symmasked_map),lmax=2048,iter=3)\n",
    "clTTsmicaOBS, clEEsmicaOBS, clBBsmicaOBS, clTEsmicaOBS, clEBsmicaOBS, clTBsmicaOBS  = hp.anafast((nilc_I_obs_symmasked_map,nilc_Q_obs_symmasked_map,nilc_U_obs_symmasked_map),lmax=2048,iter=3)\n",
    "\n",
    "hp.write_cl('planck_obs_nilc_debeamed_symmasked_cl_TT.fits',clTTnilc)\n",
    "hp.write_cl('planck_obs_smica_debeamed_symmasked_cl_TT.fits',clTTsmica)\n",
    "hp.write_cl('planck_obs_nilc_debeamed_symmasked_cl_EE.fits',clEEnilc)\n",
    "hp.write_cl('planck_obs_smica_debeamed_symmasked_cl_EE.fits',clEEsmica)"
   ]
  },
  {
   "cell_type": "code",
   "execution_count": null,
   "metadata": {},
   "outputs": [],
   "source": [
    "lmax = 2048\n",
    "\n",
    "mastermatrixfileTT='master_matrix_TT_pr3.csv'\n",
    "mastermatrixTT=np.genfromtxt(mastermatrixfileTT, delimiter=',')\n",
    "mastermatrixTT[:,0:2]=0\n",
    "mastermatrizsizeTT=len(mastermatrixTT)\n",
    "cl_TT=cl_TT[:mastermatrizsizeTT]\n",
    "cl_TT=np.dot(mastermatrixTT,cl_TT)[0:lmax+2]\n",
    "\n",
    "mastermatrixfileEE='master_matrix_EE_pr3.csv'\n",
    "mastermatrixEE=np.genfromtxt(mastermatrixfileEE, delimiter=',')\n",
    "mastermatrixEE[:,0:2]=0\n",
    "mastermatrizsizeEE=len(mastermatrixEE)\n",
    "cl_EE=cl_EE[:mastermatrizsizeEE]\n",
    "cl_EE=np.dot(mastermatrixEE,cl_EE)[0:lmax+2]\n",
    "\n",
    "sims_nilc_cl_TT = cl_TT[:lmax+1]+nilc_T_nl[:lmax+1]\n",
    "sims_smica_cl_TT = cl_TT[:lmax+1]+smica_T_nl[:lmax+1]\n",
    "sims_nilc_cl_EE = cl_EE[:lmax+1]+nilc_E_nl[:lmax+1]\n",
    "sims_smica_cl_EE = cl_EE[:lmax+1]+smica_E_nl[:lmax+1]"
   ]
  },
  {
   "cell_type": "code",
   "execution_count": null,
   "metadata": {},
   "outputs": [],
   "source": [
    "bin_size = 10\n",
    "nilc_TT_beta_corr_bin_factors = np.array([(np.sum((sims_nilc_cl_TT[bin*bin_size:(bin+1)*bin_size]/clTTnilcOBS[bin*bin_size:(bin+1)*bin_size])*(2*np.arange(bin*bin_size,(bin+1)*bin_size)+1))/np.sum((2*np.arange(bin*bin_size,(bin+1)*bin_size)+1))) for bin in range(200)])\n",
    "smica_TT_beta_corr_bin_factors = np.array([(np.sum((sims_smica_cl_TT[bin*bin_size:(bin+1)*bin_size]/clTTsmicaOBS[bin*bin_size:(bin+1)*bin_size])*(2*np.arange(bin*bin_size,(bin+1)*bin_size)+1))/np.sum((2*np.arange(bin*bin_size,(bin+1)*bin_size)+1))) for bin in range(200)])\n",
    "nilc_EE_beta_corr_bin_factors = np.array([(np.sum((sims_nilc_cl_EE[bin*bin_size:(bin+1)*bin_size]/clEEnilcOBS[bin*bin_size:(bin+1)*bin_size])*(2*np.arange(bin*bin_size,(bin+1)*bin_size)+1))/np.sum((2*np.arange(bin*bin_size,(bin+1)*bin_size)+1))) for bin in range(200)])\n",
    "smica_EE_beta_corr_bin_factors = np.array([(np.sum((sims_smica_cl_EE[bin*bin_size:(bin+1)*bin_size]/clEEsmicaOBS[bin*bin_size:(bin+1)*bin_size])*(2*np.arange(bin*bin_size,(bin+1)*bin_size)+1))/np.sum((2*np.arange(bin*bin_size,(bin+1)*bin_size)+1))) for bin in range(200)])\n",
    "\n",
    "np.savetxt('nilc_TT_beta_corr_bin_factors.txt',nilc_TT_beta_corr_bin_factors)\n",
    "np.savetxt('smica_TT_beta_corr_bin_factors.txt',smica_TT_beta_corr_bin_factors)\n",
    "np.savetxt('nilc_EE_beta_corr_bin_factors.txt',nilc_EE_beta_corr_bin_factors)\n",
    "np.savetxt('smica_EE_beta_corr_bin_factors.txt',smica_EE_beta_corr_bin_factors)"
   ]
  },
  {
   "cell_type": "code",
   "execution_count": null,
   "metadata": {},
   "outputs": [],
   "source": [
    "#### Estimating NILC TT symmmasked Beta ####\n",
    "\n",
    "htheofast(sims_nilc_cl_TT,binsize=10,plot_std=True,threads=8)\n",
    "nilc_alm_T_debeamed_symmasked = reorder_idxpy2pix(nilc_alm_T_debeamed_symmasked,threads=8)\n",
    "betafast(nilc_alm_T_debeamed_symmasked,binsize=10,threads=12,sufixname='nilc_T_obs_symmmasked_',verbose=False,export_results=True);\n"
   ]
  },
  {
   "cell_type": "code",
   "execution_count": null,
   "metadata": {},
   "outputs": [],
   "source": [
    "#### Estimating SMICA TT symmmasked Beta ####\n",
    "\n",
    "htheofast(sims_smica_cl_TT,binsize=10,plot_std=True,threads=8)\n",
    "smica_alm_T_debeamed_symmasked = reorder_idxpy2pix(smica_alm_T_debeamed_symmasked,threads=8)\n",
    "betafast(smica_alm_T_debeamed_symmasked,binsize=10,threads=12,sufixname='smica_T_obs_symmmasked_',verbose=False,export_results=True);\n"
   ]
  },
  {
   "cell_type": "code",
   "execution_count": null,
   "metadata": {},
   "outputs": [],
   "source": [
    "#### Estimating NILC EE symmmasked Beta ####\n",
    "\n",
    "htheofast(sims_nilc_cl_EE,binsize=10,plot_std=True,threads=8)\n",
    "nilc_alm_E_debeamed_symmasked = reorder_idxpy2pix(nilc_alm_E_debeamed_symmasked,threads=8)\n",
    "betafast(nilc_alm_E_debeamed_symmasked,binsize=10,threads=12,sufixname='nilc_E_obs_symmmasked_',verbose=False,export_results=True);\n"
   ]
  },
  {
   "cell_type": "code",
   "execution_count": null,
   "metadata": {},
   "outputs": [],
   "source": [
    "#### Estimating SMICA EE symmmasked Beta ####\n",
    "\n",
    "htheofast(sims_smica_cl_EE,binsize=10,plot_std=True,threads=8)\n",
    "smica_alm_E_debeamed_symmasked = reorder_idxpy2pix(smica_alm_E_debeamed_symmasked,threads=8)\n",
    "betafast(smica_alm_E_debeamed_symmasked,binsize=10,threads=12,sufixname='smica_E_obs_symmmasked_',verbose=False,export_results=True);\n"
   ]
  },
  {
   "cell_type": "code",
   "execution_count": null,
   "metadata": {},
   "outputs": [],
   "source": [
    "plt.plot(sims_nilc_cl_TT*((np.arange(0,sims_nilc_cl_TT.size)*np.arange(0,sims_nilc_cl_TT.size)+1))/(2*np.pi),color='b')\n",
    "plt.plot(nilc_T_nl*((np.arange(0,sims_nilc_cl_TT.size)*np.arange(0,sims_nilc_cl_TT.size)+1))/(2*np.pi),color='b', linestyle='--')\n",
    "plt.plot(sims_smica_cl_TT*((np.arange(0,sims_nilc_cl_TT.size)*np.arange(0,sims_nilc_cl_TT.size)+1))/(2*np.pi),color='r')\n",
    "plt.plot(smica_T_nl*((np.arange(0,sims_nilc_cl_TT.size)*np.arange(0,sims_nilc_cl_TT.size)+1))/(2*np.pi),color='r', linestyle='--')\n",
    "plt.grid(color='k', linestyle='-', linewidth=0.5)\n",
    "plt.show()\n",
    "plt.plot(sims_nilc_cl_EE*((np.arange(0,sims_nilc_cl_TT.size)*np.arange(0,sims_nilc_cl_TT.size)+1))/(2*np.pi),color='b')\n",
    "plt.plot(nilc_E_nl*((np.arange(0,sims_nilc_cl_TT.size)*np.arange(0,sims_nilc_cl_TT.size)+1))/(2*np.pi),color='b', linestyle='--')\n",
    "plt.plot(sims_smica_cl_EE*((np.arange(0,sims_nilc_cl_TT.size)*np.arange(0,sims_nilc_cl_TT.size)+1))/(2*np.pi),color='r')\n",
    "plt.plot(smica_E_nl*((np.arange(0,sims_nilc_cl_TT.size)*np.arange(0,sims_nilc_cl_TT.size)+1))/(2*np.pi),color='r', linestyle='--')\n",
    "plt.grid(color='k', linestyle='-', linewidth=0.5)\n",
    "plt.show()\n"
   ]
  },
  {
   "cell_type": "markdown",
   "metadata": {},
   "source": [
    "# Deboosted \n",
    "You have to generate the Dipole Distortion maps before call the \"dipole_doppler_\".\n",
    "Maybe you will need to shutdown and restart the kernel before run\n"
   ]
  },
  {
   "cell_type": "code",
   "execution_count": null,
   "metadata": {},
   "outputs": [],
   "source": [
    "###############################\n",
    "####### DEBOOSTED ALMS ########\n",
    "########### SMICA #############\n",
    "###############################\n",
    "\n",
    "smica_T_obs_debeamed_alm = hp.read_alm('planck_obs_smica_T_obs_debeamed_alm3.fits')\n",
    "alm=smica_T_obs_debeamed_alm\n",
    "dd_maps_dir='/dd_maps/'\n",
    "dipole_doppler_load_low_res(alm=alm,pipeline='smica',almfile=False,lmax=2048,overbin=10,threads=4,verbose=True,dd_dir=dd_maps_dir)\n",
    "\n",
    "start = time.time()\n",
    "smica_dd_alm = dipole_doppler_low_res_removal(smica_T_obs_debeamed_alm,threads=4,processes=1)\n",
    "hp.write_alm('planck_obs_smica_dd_deboosted_debeamed4.fits',smica_dd_alm,overwrite=True)\n",
    "end = time.time()"
   ]
  },
  {
   "cell_type": "code",
   "execution_count": null,
   "metadata": {},
   "outputs": [],
   "source": [
    "###############################\n",
    "####### DEBOOSTED ALMS ########\n",
    "########### NILC ##############\n",
    "###############################\n",
    "\n",
    "nilc_T_obs_debeamed_alm = hp.read_alm('planck_obs_nilc_T_obs_debeamed_alm3.fits')\n",
    "alm=nilc_T_obs_debeamed_alm\n",
    "dd_maps_dir='/dd_maps/'\n",
    "dipole_doppler_load_low_res(alm=alm,pipeline='nilc',almfile=False,lmax=2048,overbin=10,threads=4,verbose=True,dd_dir=dd_maps_dir)\n",
    "\n",
    "start = time.time()\n",
    "nilc_dd_alm = dipole_doppler_low_res_removal(nilc_T_obs_debeamed_alm,threads=4,processes=4)\n",
    "hp.write_alm('planck_obs_nilc_dd_deboosted_debeamed4.fits',nilc_dd_alm,overwrite=True)\n",
    "end = time.time()\n"
   ]
  },
  {
   "cell_type": "code",
   "execution_count": null,
   "metadata": {},
   "outputs": [],
   "source": [
    "masksymm_temp = hp.read_map('temp_symmmask_pr3.fits',verbose=False)\n",
    "lmax_var = 2048\n",
    "\n",
    "#### Masking ####\n",
    "nilc_obs_debeamed_alm = hp.read_alm('planck_obs_nilc_dd_deboosted_debeamed4.fits')\n",
    "smica_obs_debeamed_alm = hp.read_alm('planck_obs_smica_dd_deboosted_debeamed4.fits')\n",
    "\n",
    "nilc_obs_debeamed_map = hp.alm2map(nilc_obs_debeamed_alm,nside=2048,verbose=False)\n",
    "nilc_obs_debeamed_symmmasked_map = nilc_obs_debeamed_map*masksymm_temp\n",
    "\n",
    "smica_obs_debeamed_map = hp.alm2map(smica_obs_debeamed_alm,nside=2048,verbose=False)\n",
    "smica_obs_debeamed_symmmasked_map = smica_obs_debeamed_map*masksymm_temp\n",
    "\n",
    "#### Final alms ####\n",
    "\n",
    "nilc_obs_debeamed_symmmasked_alm = hp.map2alm(nilc_obs_debeamed_symmmasked_map,lmax=lmax_var,iter=3)\n",
    "smica_obs_debeamed_symmmasked_alm = hp.map2alm(smica_obs_debeamed_symmmasked_map,lmax=lmax_var,iter=3)"
   ]
  },
  {
   "cell_type": "code",
   "execution_count": null,
   "metadata": {},
   "outputs": [],
   "source": [
    "#### Estimating SMICA symmmasked Beta ####\n",
    "clfile='cl_TT_planck_2019.fits'\n",
    "cl = hp.read_cl(clfile)\n",
    "\n",
    "htheofast(cl,mastermatrixfile='master_matrix_TT_pr3.csv',nlfile='nl_smica_T_symmmasked.fits',binsize=10,plot_std=True,threads=8)\n",
    "\n",
    "smica_obs_debeamed_symmmasked_alm = reorder_idxpy2pix(smica_obs_debeamed_symmmasked_alm,threads=8)\n",
    "\n",
    "betafast(smica_obs_debeamed_symmmasked_alm,binsize=10,threads=12,sufixname='smica_obs_dd_deboosted_symmmasked_v2_',verbose=False,export_results=True);\n"
   ]
  },
  {
   "cell_type": "code",
   "execution_count": null,
   "metadata": {},
   "outputs": [],
   "source": [
    "#### Estimating NILC symmmasked Beta ####\n",
    "clfile='cl_TT_planck_2019.fits'\n",
    "cl = hp.read_cl(clfile)\n",
    "\n",
    "htheofast(cl,mastermatrixfile='master_matrix_TT_pr3.csv',nlfile='nl_nilc_T_symmmasked.fits',binsize=10,plot_std=True,threads=8)\n",
    "\n",
    "nilc_obs_debeamed_symmmasked_alm = reorder_idxpy2pix(nilc_obs_debeamed_symmmasked_alm,threads=8)\n",
    "\n",
    "betafast(nilc_obs_debeamed_symmmasked_alm,binsize=10,threads=12,sufixname='nilc_obs_dd_deboosted_symmmasked_v2_',verbose=False,export_results=True);\n"
   ]
  },
  {
   "cell_type": "code",
   "execution_count": null,
   "metadata": {},
   "outputs": [],
   "source": [
    "alm_E = hp.read_alm('planck_obs_smica_E_obs_debeamed_alm3.fits')\n",
    "dipole_doppler_load_low_res_pol(alm=alm_E,pipeline='smica',almfile=False,lmax=1450,overbin=10,threads=16,dd_dir=\"/dd_maps/\",verbose=True)\n",
    "\n",
    "nthreads = 4\n",
    "c_nthreads_limit(nthreads)\n",
    "nprocesses = 3\n",
    "\n",
    "alm_E_dd_removed = dipole_doppler_low_res_pol_removal(alm_E,lmax=1450,threads=nthreads,processes=nprocesses)\n",
    "hp.write_alm('smica_EE_v2_deDopplered_.fits',alm_E_dd_removed,overwrite=True)\n"
   ]
  },
  {
   "cell_type": "code",
   "execution_count": null,
   "metadata": {},
   "outputs": [],
   "source": [
    "alm_E = hp.read_alm('planck_obs_nilc_E_obs_debeamed_alm3.fits')\n",
    "dipole_doppler_load_low_res(alm=alm_E,pipeline='nilc',almfile=False,lmax=1450,overbin=10,threads=16,dd_dir=\"/dd_maps/\",verbose=True)\n",
    "\n",
    "nthreads = 4\n",
    "c_nthreads_limit(nthreads)\n",
    "nprocesses = 3\n",
    "\n",
    "alm_E_dd_removed = dipole_doppler_low_res_pol_removal(alm_E,lmax=1450,threads=nthreads,processes=nprocesses)\n",
    "hp.write_alm('nilc_EE_v2_deDopplered_.fits',alm_E_dd_removed,overwrite=True)\n"
   ]
  },
  {
   "cell_type": "code",
   "execution_count": null,
   "metadata": {},
   "outputs": [],
   "source": [
    "masksymm_pol = hp.read_map('pol_symmmask_pr3.fits',verbose=False)\n",
    "\n",
    "alm_E_deDoppler = hp.read_alm('smica_EE_v2_deDopplered_.fits')\n",
    "alm_T = np.zeros(alm_E_deDoppler.size,dtype=np.complex128)\n",
    "alm_B = np.zeros(alm_E_deDoppler.size,dtype=np.complex128)\n",
    "map_I, map_Q, map_U = hp.alm2map([alm_T,alm_E_deDoppler,alm_B],nside=2048)\n",
    "map_I = map_I*masksymm_pol\n",
    "map_Q = map_Q*masksymm_pol\n",
    "map_U = map_U*masksymm_pol\n",
    "alm_T, alm_E_deDoppler, alm_B = hp.map2alm([map_I,map_Q,map_U],lmax=1450)\n",
    "\n",
    "clfile='cl_EE_planck_2019.fits'\n",
    "cl = hp.read_cl(clfile)\n",
    "\n",
    "htheofast(cl,lmax=1450,mastermatrixfile='master_matrix_EE_pr3.csv',nlfile='nl_smica_E_symmmasked.fits',binsize=10,threads=8)\n",
    "\n",
    "smica_debeamed_masked_alm_EE = reorder_idxpy2pix(alm_E_deDoppler,threads=8)\n",
    "\n",
    "betafast(smica_debeamed_masked_alm_EE,lmax=1442,binsize=10,threads=12,sufixname='new_smica_EE_deDopplered_obs_symmmasked_',verbose=False,export_results=True);\n"
   ]
  },
  {
   "cell_type": "code",
   "execution_count": null,
   "metadata": {},
   "outputs": [],
   "source": [
    "masksymm = hp.read_map('/home/pedro/hp_nvme/cmb_boost_legacy_v2/Pol_mask/pol_symmmask.fits')\n",
    "\n",
    "alm_E_deDoppler = hp.read_alm('nilc_EE_v2_deDopplered_.fits')\n",
    "alm_T = np.zeros(alm_E_deDoppler.size,dtype=np.complex128)\n",
    "alm_B = np.zeros(alm_E_deDoppler.size,dtype=np.complex128)\n",
    "map_I, map_Q, map_U = hp.alm2map([alm_T,alm_E_deDoppler,alm_B],nside=2048)\n",
    "map_I = map_I*masksymm\n",
    "map_Q = map_Q*masksymm\n",
    "map_U = map_U*masksymm\n",
    "alm_T, alm_E_deDoppler, alm_B = hp.map2alm([map_I,map_Q,map_U],lmax=1450)\n",
    "\n",
    "clfile='cl_EE_planck_2019.fits'\n",
    "cl = hp.read_cl(clfile)\n",
    "\n",
    "htheofast(cl,lmax=1450,mastermatrixfile='master_matrix_TT_pr3.csv',nlfile='nl_nilc_E_symmmasked.fits',binsize=10,threads=8)\n",
    "\n",
    "smica_debeamed_masked_alm_EE = reorder_idxpy2pix(alm_E_deDoppler,threads=8)\n",
    "\n",
    "betafast(smica_debeamed_masked_alm_EE,lmax=1442,binsize=10,threads=12,sufixname='new_nilc_EE_deDopplered_obs_symmmasked_',verbose=False,export_results=True);\n"
   ]
  },
  {
   "cell_type": "code",
   "execution_count": null,
   "metadata": {},
   "outputs": [],
   "source": []
  }
 ],
 "metadata": {
  "kernelspec": {
   "display_name": "Python 3",
   "language": "python",
   "name": "python3"
  },
  "language_info": {
   "codemirror_mode": {
    "name": "ipython",
    "version": 3
   },
   "file_extension": ".py",
   "mimetype": "text/x-python",
   "name": "python",
   "nbconvert_exporter": "python",
   "pygments_lexer": "ipython3",
   "version": "3.8.5"
  },
  "toc": {
   "base_numbering": 1,
   "nav_menu": {},
   "number_sections": true,
   "sideBar": true,
   "skip_h1_title": false,
   "title_cell": "Table of Contents",
   "title_sidebar": "Contents",
   "toc_cell": false,
   "toc_position": {},
   "toc_section_display": true,
   "toc_window_display": false
  },
  "varInspector": {
   "cols": {
    "lenName": 16,
    "lenType": 16,
    "lenVar": 40
   },
   "kernels_config": {
    "python": {
     "delete_cmd_postfix": "",
     "delete_cmd_prefix": "del ",
     "library": "var_list.py",
     "varRefreshCmd": "print(var_dic_list())"
    },
    "r": {
     "delete_cmd_postfix": ") ",
     "delete_cmd_prefix": "rm(",
     "library": "var_list.r",
     "varRefreshCmd": "cat(var_dic_list()) "
    }
   },
   "types_to_exclude": [
    "module",
    "function",
    "builtin_function_or_method",
    "instance",
    "_Feature"
   ],
   "window_display": false
  }
 },
 "nbformat": 4,
 "nbformat_minor": 2
}
