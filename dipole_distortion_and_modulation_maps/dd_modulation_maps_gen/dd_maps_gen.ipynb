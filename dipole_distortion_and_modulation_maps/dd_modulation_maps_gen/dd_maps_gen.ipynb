{
 "cells": [
  {
   "cell_type": "markdown",
   "metadata": {},
   "source": [
    "# Generating DD maps"
   ]
  },
  {
   "cell_type": "markdown",
   "metadata": {},
   "source": [
    "## Importing Modules"
   ]
  },
  {
   "cell_type": "code",
   "execution_count": 1,
   "metadata": {},
   "outputs": [],
   "source": [
    "import os                                                                     \n",
    "from threadpoolctl import threadpool_limits\n",
    "import healpy as hp\n",
    "import numpy as np\n",
    "from tqdm import tqdm\n",
    "from astropy.io import fits as pyfits\n",
    "import random\n",
    "import pymp\n",
    "import time\n",
    "from tqdm import tqdm\n",
    "import matplotlib.pyplot as plt\n",
    "import matplotlib.pyplot as plt\n",
    "import numpy as np\n",
    "from matplotlib import colors\n",
    "from matplotlib.ticker import PercentFormatter\n",
    "import importlib\n",
    "import sys\n",
    "import multiprocessing as mp\n",
    "from math import sqrt\n",
    "from math import radians\n",
    "import gc\n",
    "import subprocess\n",
    "gc.disable()\n",
    "#######################################################################################################\n",
    "from cmbaberdopp_beta0p8 import * # cmbboost its a module created w/ the functions needed for this work          #\n",
    "                       # remember to change the path of maps on dipole_doppler_load_low_res function  #\n",
    "#######################################################################################################\n",
    "def c_nthreads_limit(n): # Function to change number of threads used on imported C/C++ functions\n",
    "    threadpool_limits(limits=n, user_api='blas')\n",
    "    threadpool_limits(limits=n, user_api='openmp')"
   ]
  },
  {
   "cell_type": "code",
   "execution_count": 2,
   "metadata": {},
   "outputs": [],
   "source": [
    "nthreads = 14\n",
    "dipole_lat = 48.253\n",
    "dipole_long = 264.021\n",
    "dipole_beta = 0.00123357\n",
    "c = 299792.458\n",
    "\n",
    "dd_files_dir = ''"
   ]
  },
  {
   "cell_type": "markdown",
   "metadata": {},
   "source": [
    "## TT"
   ]
  },
  {
   "cell_type": "code",
   "execution_count": 17,
   "metadata": {},
   "outputs": [
    {
     "name": "stderr",
     "output_type": "stream",
     "text": [
      "SMICA: 100%|██████████| 10/10 [00:35<00:00,  3.60s/it]\n",
      "NILC: 100%|██████████| 10/10 [00:34<00:00,  3.48s/it]\n"
     ]
    }
   ],
   "source": [
    "# The dipole Doppler beta values are computed at the Mathematica Notebook\n",
    "smica_dipole_doppler = np.array([0.00134776,0.00142717,0.00139458,0.00140463,0.00145552,0.00153064,0.00161751,0.00173459,0.00187187,0.00203214])\n",
    "for i in tqdm(range(len(smica_dipole_doppler)),desc='SMICA'):\n",
    "    dipole_doppler_map = doppler_boost_map_dir_s(beta_var=smica_dipole_doppler[i],nside_var=2048,longdir=dipole_long,latdir=dipole_lat)\n",
    "    hp.write_map(dd_files_dir+'low_res_smica_dipole_doppler_bin'+str(i)+'.fits',dipole_doppler_map,dtype=np.float64,overwrite=True)\n",
    "\n",
    "nilc_dipole_doppler = np.array([0.00109118,0.00128478,0.00145884,0.00151132,0.00157082,0.00162806,0.00167122,0.00175909,0.00185341,0.0020071])\n",
    "for i in tqdm(range(len(nilc_dipole_doppler)),desc='NILC'):\n",
    "    dipole_doppler_map = doppler_boost_map_dir_s(beta_var=nilc_dipole_doppler[i],nside_var=2048,longdir=dipole_long,latdir=dipole_lat)\n",
    "    hp.write_map(dd_files_dir+'low_res_nilc_dipole_doppler_bin'+str(i)+'.fits',dipole_doppler_map,dtype=np.float64,overwrite=True)\n",
    "\n",
    "dipole_modulation_map = doppler_boost_map_dir_s(beta_var=dipole_beta,nside_var=2048,longdir=dipole_long,latdir=dipole_lat)\n",
    "hp.write_map('dipole_modulation_map.fits',dipole_modulation_map,dtype=np.float64,overwrite=True)"
   ]
  },
  {
   "cell_type": "markdown",
   "metadata": {},
   "source": [
    "## EE"
   ]
  },
  {
   "cell_type": "code",
   "execution_count": 3,
   "metadata": {},
   "outputs": [
    {
     "name": "stderr",
     "output_type": "stream",
     "text": [
      "SMICA: 100%|██████████| 10/10 [00:38<00:00,  3.87s/it]\n",
      "NILC: 100%|██████████| 10/10 [00:36<00:00,  3.68s/it]\n"
     ]
    }
   ],
   "source": [
    "# The dipole Doppler beta values are computed at the Mathematica Notebook\n",
    "smica_dipole_doppler = np.array([0.000896886,0.00097134,0.00108912,0.00122542,0.00137732,0.00152934,0.00168033,0.00182553,0.00196633,0.00209888])\n",
    "for i in tqdm(range(len(smica_dipole_doppler)),desc='SMICA'):\n",
    "    dipole_doppler_map = doppler_boost_map_dir_s(beta_var=smica_dipole_doppler[i],nside_var=2048,longdir=dipole_long,latdir=dipole_lat)\n",
    "    hp.write_map(dd_files_dir+'low_res_smica_dipole_doppler_pol_bin'+str(i)+'.fits',dipole_doppler_map,dtype=np.float64,overwrite=True)\n",
    "\n",
    "nilc_dipole_doppler = np.array([0.000998844,0.001076,0.00121987,0.00133004,0.00147271,0.00162417,0.00172683,0.00186521,0.00198074,0.00213426])\n",
    "for i in tqdm(range(len(nilc_dipole_doppler)),desc='NILC'):\n",
    "    dipole_doppler_map = doppler_boost_map_dir_s(beta_var=nilc_dipole_doppler[i],nside_var=2048,longdir=dipole_long,latdir=dipole_lat)\n",
    "    hp.write_map(dd_files_dir+'low_res_nilc_dipole_doppler_pol_bin'+str(i)+'.fits',dipole_doppler_map,dtype=np.float64,overwrite=True)\n",
    "\n"
   ]
  },
  {
   "cell_type": "code",
   "execution_count": null,
   "metadata": {},
   "outputs": [],
   "source": []
  }
 ],
 "metadata": {
  "kernelspec": {
   "display_name": "Python 3",
   "language": "python",
   "name": "python3"
  },
  "language_info": {
   "codemirror_mode": {
    "name": "ipython",
    "version": 3
   },
   "file_extension": ".py",
   "mimetype": "text/x-python",
   "name": "python",
   "nbconvert_exporter": "python",
   "pygments_lexer": "ipython3",
   "version": "3.8.5"
  },
  "toc": {
   "base_numbering": 1,
   "nav_menu": {},
   "number_sections": true,
   "sideBar": true,
   "skip_h1_title": false,
   "title_cell": "Table of Contents",
   "title_sidebar": "Contents",
   "toc_cell": false,
   "toc_position": {},
   "toc_section_display": true,
   "toc_window_display": false
  },
  "varInspector": {
   "cols": {
    "lenName": 16,
    "lenType": 16,
    "lenVar": 40
   },
   "kernels_config": {
    "python": {
     "delete_cmd_postfix": "",
     "delete_cmd_prefix": "del ",
     "library": "var_list.py",
     "varRefreshCmd": "print(var_dic_list())"
    },
    "r": {
     "delete_cmd_postfix": ") ",
     "delete_cmd_prefix": "rm(",
     "library": "var_list.r",
     "varRefreshCmd": "cat(var_dic_list()) "
    }
   },
   "types_to_exclude": [
    "module",
    "function",
    "builtin_function_or_method",
    "instance",
    "_Feature"
   ],
   "window_display": false
  }
 },
 "nbformat": 4,
 "nbformat_minor": 4
}
