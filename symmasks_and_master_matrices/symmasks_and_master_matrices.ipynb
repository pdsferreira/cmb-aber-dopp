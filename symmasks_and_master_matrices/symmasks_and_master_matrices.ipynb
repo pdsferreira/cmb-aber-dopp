{
 "cells": [
  {
   "cell_type": "markdown",
   "metadata": {},
   "source": [
    "# Noise Analysis and Deboost"
   ]
  },
  {
   "cell_type": "markdown",
   "metadata": {},
   "source": [
    "## Importing Modules"
   ]
  },
  {
   "cell_type": "code",
   "execution_count": 6,
   "metadata": {},
   "outputs": [],
   "source": [
    "import numpy as np\n",
    "import healpy as hp\n",
    "import camb\n",
    "import time\n",
    "import multiprocessing as mp\n",
    "from matplotlib import pyplot as plt\n",
    "from cmbaberdopp import * # module created w/ the functions needed for this work          #\n"
   ]
  },
  {
   "cell_type": "markdown",
   "metadata": {},
   "source": [
    "# Downloading Maks"
   ]
  },
  {
   "cell_type": "code",
   "execution_count": 2,
   "metadata": {},
   "outputs": [
    {
     "data": {
      "text/plain": [
       "'COM_CMB_IQU-nilc_2048_R3.00_full.fits'"
      ]
     },
     "execution_count": 2,
     "metadata": {},
     "output_type": "execute_result"
    }
   ],
   "source": [
    "# Download Planck final Temperature and Polarization masks\n",
    "wget.download('http://pla.esac.esa.int/pla/aio/product-action?MAP.MAP_ID=COM_Mask_CMB-common-Mask-Int_2048_R3.00.fits')\n",
    "wget.download('http://pla.esac.esa.int/pla/aio/product-action?MAP.MAP_ID=COM_Mask_CMB-common-Mask-Pol_2048_R3.00.fits')"
   ]
  },
  {
   "cell_type": "markdown",
   "metadata": {},
   "source": [
    "# Temperature"
   ]
  },
  {
   "cell_type": "markdown",
   "metadata": {},
   "source": [
    "## Creating antipodal symmetric mask"
   ]
  },
  {
   "cell_type": "code",
   "execution_count": 5,
   "metadata": {},
   "outputs": [],
   "source": [
    "lmax_var = 2500\n",
    "\n",
    "#### TEMPERATURE\n",
    "start = time.time()\n",
    "temp_mask = hp.read_map('COM_Mask_CMB-common-Mask-Int_2048_R3.00.fits',dtype=np.float64)\n",
    "temp_symmmask = masksymm(temp_mask,nside_out=2048) # Mask antipodal symmetrization including 10\" apodization and Gibbs effect removal by default\n",
    "end = time.time()\n",
    "print(end-start)\n",
    "hp.write_map('temp_symmmask_pr3.fits',temp_symmmask,dtype=np.float64)\n",
    "hp.mollview(temp_symmmask)\n",
    "plt.savefig('temp_symmmask_pr3.png')\n",
    "plt.show()"
   ]
  },
  {
   "cell_type": "markdown",
   "metadata": {},
   "source": [
    "## Creating Master Matrix"
   ]
  },
  {
   "cell_type": "code",
   "execution_count": null,
   "metadata": {},
   "outputs": [],
   "source": [
    "symmask_cl = hp.anafast(temp_symmmask,lmax=lmax_var)\n",
    "master_matrix_TT = camb.mathutils.scalar_coupling_matrix(symmask_cl, lmax=lmax_var) # Computing Master Matrix\n",
    "np.savetxt('master_matrix_TT_pr3.csv',master_matrix_TT, delimiter=',')"
   ]
  },
  {
   "cell_type": "markdown",
   "metadata": {},
   "source": [
    "# Polarization"
   ]
  },
  {
   "cell_type": "markdown",
   "metadata": {},
   "source": [
    "## Creating antipodal symmetric mask"
   ]
  },
  {
   "cell_type": "code",
   "execution_count": null,
   "metadata": {},
   "outputs": [],
   "source": [
    "#### POLARIZATION\n",
    "start = time.time()\n",
    "pol_mask = hp.read_map('COM_Mask_CMB-common-Mask-Pol_2048_R3.00.fits',dtype=np.float64)\n",
    "pol_symmmask = masksymm(pol_mask,nside_out=2048)  # Mask antipodal symmetrization including 10\" apodization and Gibbs effect removal by default\n",
    "end = time.time()\n",
    "print(end-start)\n",
    "hp.write_map('pol_symmmask_pr3.fits',pol_symmmask,dtype=np.float64)\n",
    "hp.mollview(pol_symmmask)\n",
    "plt.savefig('pol_symmmask_pr3.png')\n",
    "plt.show()"
   ]
  },
  {
   "cell_type": "markdown",
   "metadata": {},
   "source": [
    "## Creating Master Matrix"
   ]
  },
  {
   "cell_type": "code",
   "execution_count": null,
   "metadata": {},
   "outputs": [],
   "source": [
    "pol_symmask_cl = hp.anafast(pol_symmmask,lmax=lmax_var)\n",
    "master_matrix_TT, master_matrix_TE, master_matrix_EE, master_matrix_BB = camb.mathutils.pcl_coupling_matrix(pol_symmask_cl, lmax=lmax_var, pol=True) # Computing Master Matrix\n",
    "np.savetxt('master_matrix_EE_pr3.csv',master_matrix_EE, delimiter=',')"
   ]
  }
 ],
 "metadata": {
  "kernelspec": {
   "display_name": "Python 3",
   "language": "python",
   "name": "python3"
  },
  "language_info": {
   "codemirror_mode": {
    "name": "ipython",
    "version": 3
   },
   "file_extension": ".py",
   "mimetype": "text/x-python",
   "name": "python",
   "nbconvert_exporter": "python",
   "pygments_lexer": "ipython3",
   "version": "3.8.5"
  },
  "toc": {
   "base_numbering": 1,
   "nav_menu": {},
   "number_sections": true,
   "sideBar": true,
   "skip_h1_title": false,
   "title_cell": "Table of Contents",
   "title_sidebar": "Contents",
   "toc_cell": false,
   "toc_position": {},
   "toc_section_display": true,
   "toc_window_display": false
  },
  "varInspector": {
   "cols": {
    "lenName": 16,
    "lenType": 16,
    "lenVar": 40
   },
   "kernels_config": {
    "python": {
     "delete_cmd_postfix": "",
     "delete_cmd_prefix": "del ",
     "library": "var_list.py",
     "varRefreshCmd": "print(var_dic_list())"
    },
    "r": {
     "delete_cmd_postfix": ") ",
     "delete_cmd_prefix": "rm(",
     "library": "var_list.r",
     "varRefreshCmd": "cat(var_dic_list()) "
    }
   },
   "types_to_exclude": [
    "module",
    "function",
    "builtin_function_or_method",
    "instance",
    "_Feature"
   ],
   "window_display": false
  }
 },
 "nbformat": 4,
 "nbformat_minor": 4
}
